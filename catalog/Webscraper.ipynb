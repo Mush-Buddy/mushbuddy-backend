{
  "nbformat": 4,
  "nbformat_minor": 0,
  "metadata": {
    "colab": {
      "name": "Webscraper.ipynb",
      "provenance": []
    },
    "kernelspec": {
      "name": "python3",
      "display_name": "Python 3"
    },
    "language_info": {
      "name": "python"
    }
  },
  "cells": [
    {
      "cell_type": "markdown",
      "source": [
        "# Notebook to scrape mushroomexpert.com for mushroom catalog"
      ],
      "metadata": {
        "id": "lU5lxHTDtSU2"
      }
    },
    {
      "cell_type": "code",
      "execution_count": null,
      "metadata": {
        "id": "h84g4_7SyDEB"
      },
      "outputs": [],
      "source": [
        "import requests\n",
        "import numpy as np\n",
        "import pandas as pd\n",
        "from bs4 import BeautifulSoup\n",
        "from time import sleep\n",
        "from random import randint"
      ]
    },
    {
      "cell_type": "markdown",
      "source": [
        "# Scrape site to get links to each mushroom catalog post"
      ],
      "metadata": {
        "id": "fjxhrntltipX"
      }
    },
    {
      "cell_type": "code",
      "source": [
        "root = 'https://www.mushroomexpert.com/'"
      ],
      "metadata": {
        "id": "mepQkSJnx0k7"
      },
      "execution_count": null,
      "outputs": []
    },
    {
      "cell_type": "code",
      "source": [
        "r = requests.get(root)"
      ],
      "metadata": {
        "id": "RpZn3_1w1PGd"
      },
      "execution_count": null,
      "outputs": []
    },
    {
      "cell_type": "code",
      "source": [
        "soup = BeautifulSoup(r.text,'html.parser')"
      ],
      "metadata": {
        "id": "FnPKXZwN1jBg"
      },
      "execution_count": null,
      "outputs": []
    },
    {
      "cell_type": "code",
      "source": [
        "result = soup.find_all(\"table\",width=\"600\")"
      ],
      "metadata": {
        "id": "EvdlemNEJiQH"
      },
      "execution_count": null,
      "outputs": []
    },
    {
      "cell_type": "code",
      "source": [
        "all_dfs = []"
      ],
      "metadata": {
        "id": "ra7EzNS4clH7"
      },
      "execution_count": null,
      "outputs": []
    },
    {
      "cell_type": "code",
      "source": [
        "for i in result:\n",
        "  dfs_to_concat = []\n",
        "  cols = i.find_all(\"td\")\n",
        "  for i in cols:\n",
        "    a = i.find_all(\"a\", href=True)\n",
        "    col_links = []\n",
        "    for l in a:\n",
        "      col_links.append([l['href'],l.get_text()])\n",
        "    df = pd.DataFrame(col_links,columns = ['link','text'])\n",
        "    dfs_to_concat.append(df)\n",
        "  joined_df = pd.concat(dfs_to_concat,axis=1) \n",
        "  col_names = [\"link_key\",'key',\"link_item\",\"item\",\"link_similar\",\"similar\"]\n",
        "  joined_df.columns = col_names[0:len(joined_df.columns)]\n",
        "  joined_df['key'] = joined_df['key'].iloc[0]\n",
        "  joined_df['link_key'] = joined_df['link_key'].iloc[0]\n",
        "  all_dfs.append(joined_df)"
      ],
      "metadata": {
        "id": "3B9GMk9DSS8Q"
      },
      "execution_count": null,
      "outputs": []
    },
    {
      "cell_type": "code",
      "source": [
        "entire_catalog = pd.concat(all_dfs)"
      ],
      "metadata": {
        "id": "-KyTWWi1fTmp"
      },
      "execution_count": null,
      "outputs": []
    },
    {
      "cell_type": "code",
      "source": [
        "entire_catalog['paragraphs'] = np.nan\n",
        "entire_catalog['images'] = np.nan\n",
        "entire_catalog = entire_catalog.reset_index(drop = True)"
      ],
      "metadata": {
        "id": "tM4gIblLjxvT"
      },
      "execution_count": null,
      "outputs": []
    },
    {
      "cell_type": "code",
      "source": [
        "entire_catalog"
      ],
      "metadata": {
        "colab": {
          "base_uri": "https://localhost:8080/",
          "height": 520
        },
        "id": "KHl5mJ0frwSm",
        "outputId": "3784702d-a1cc-4325-ba2b-079ff2abbf9d"
      },
      "execution_count": null,
      "outputs": [
        {
          "output_type": "execute_result",
          "data": {
            "text/html": [
              "\n",
              "  <div id=\"df-a23d814a-997c-42fe-bfcc-424c0d2ef7ef\">\n",
              "    <div class=\"colab-df-container\">\n",
              "      <div>\n",
              "<style scoped>\n",
              "    .dataframe tbody tr th:only-of-type {\n",
              "        vertical-align: middle;\n",
              "    }\n",
              "\n",
              "    .dataframe tbody tr th {\n",
              "        vertical-align: top;\n",
              "    }\n",
              "\n",
              "    .dataframe thead th {\n",
              "        text-align: right;\n",
              "    }\n",
              "</style>\n",
              "<table border=\"1\" class=\"dataframe\">\n",
              "  <thead>\n",
              "    <tr style=\"text-align: right;\">\n",
              "      <th></th>\n",
              "      <th>link_key</th>\n",
              "      <th>key</th>\n",
              "      <th>link_item</th>\n",
              "      <th>item</th>\n",
              "      <th>link_similar</th>\n",
              "      <th>similar</th>\n",
              "      <th>paragraphs</th>\n",
              "      <th>images</th>\n",
              "    </tr>\n",
              "  </thead>\n",
              "  <tbody>\n",
              "    <tr>\n",
              "      <th>0</th>\n",
              "      <td>polypores_stemmed_pale.html</td>\n",
              "      <td>Abortiporus</td>\n",
              "      <td>abortiporus_biennis.html</td>\n",
              "      <td>A. biennis</td>\n",
              "      <td>NaN</td>\n",
              "      <td>NaN</td>\n",
              "      <td>NaN</td>\n",
              "      <td>NaN</td>\n",
              "    </tr>\n",
              "    <tr>\n",
              "      <th>1</th>\n",
              "      <td>agaricus.html</td>\n",
              "      <td>Agaricus</td>\n",
              "      <td>agaricus_abruptibulbus.html</td>\n",
              "      <td>A. abruptibulbus</td>\n",
              "      <td>NaN</td>\n",
              "      <td>NaN</td>\n",
              "      <td>NaN</td>\n",
              "      <td>NaN</td>\n",
              "    </tr>\n",
              "    <tr>\n",
              "      <th>2</th>\n",
              "      <td>agaricus.html</td>\n",
              "      <td>Agaricus</td>\n",
              "      <td>agaricus_amicosus.html</td>\n",
              "      <td>A. amicosus</td>\n",
              "      <td>NaN</td>\n",
              "      <td>NaN</td>\n",
              "      <td>NaN</td>\n",
              "      <td>NaN</td>\n",
              "    </tr>\n",
              "    <tr>\n",
              "      <th>3</th>\n",
              "      <td>agaricus.html</td>\n",
              "      <td>Agaricus</td>\n",
              "      <td>agaricus_andrewii.html</td>\n",
              "      <td>A. andrewii</td>\n",
              "      <td>NaN</td>\n",
              "      <td>NaN</td>\n",
              "      <td>NaN</td>\n",
              "      <td>NaN</td>\n",
              "    </tr>\n",
              "    <tr>\n",
              "      <th>4</th>\n",
              "      <td>agaricus.html</td>\n",
              "      <td>Agaricus</td>\n",
              "      <td>agaricus_argenteus.html</td>\n",
              "      <td>A. argenteus</td>\n",
              "      <td>NaN</td>\n",
              "      <td>NaN</td>\n",
              "      <td>NaN</td>\n",
              "      <td>NaN</td>\n",
              "    </tr>\n",
              "    <tr>\n",
              "      <th>...</th>\n",
              "      <td>...</td>\n",
              "      <td>...</td>\n",
              "      <td>...</td>\n",
              "      <td>...</td>\n",
              "      <td>...</td>\n",
              "      <td>...</td>\n",
              "      <td>...</td>\n",
              "      <td>...</td>\n",
              "    </tr>\n",
              "    <tr>\n",
              "      <th>1442</th>\n",
              "      <td>xylaria.html</td>\n",
              "      <td>Xylaria</td>\n",
              "      <td>xylaria_magnoliae.html</td>\n",
              "      <td>X. magnoliae</td>\n",
              "      <td>NaN</td>\n",
              "      <td>NaN</td>\n",
              "      <td>NaN</td>\n",
              "      <td>NaN</td>\n",
              "    </tr>\n",
              "    <tr>\n",
              "      <th>1443</th>\n",
              "      <td>xylaria.html</td>\n",
              "      <td>Xylaria</td>\n",
              "      <td>xylaria_polymorpha.html</td>\n",
              "      <td>X. polymorpha</td>\n",
              "      <td>NaN</td>\n",
              "      <td>NaN</td>\n",
              "      <td>NaN</td>\n",
              "      <td>NaN</td>\n",
              "    </tr>\n",
              "    <tr>\n",
              "      <th>1444</th>\n",
              "      <td>NaN</td>\n",
              "      <td>NaN</td>\n",
              "      <td>xylobolus_frustulatus.html</td>\n",
              "      <td>X. frustulatus</td>\n",
              "      <td>NaN</td>\n",
              "      <td>NaN</td>\n",
              "      <td>NaN</td>\n",
              "      <td>NaN</td>\n",
              "    </tr>\n",
              "    <tr>\n",
              "      <th>1445</th>\n",
              "      <td>yard.html</td>\n",
              "      <td>Yard Mushrooms</td>\n",
              "      <td>NaN</td>\n",
              "      <td>NaN</td>\n",
              "      <td>NaN</td>\n",
              "      <td>NaN</td>\n",
              "      <td>NaN</td>\n",
              "      <td>NaN</td>\n",
              "    </tr>\n",
              "    <tr>\n",
              "      <th>1446</th>\n",
              "      <td>NaN</td>\n",
              "      <td>NaN</td>\n",
              "      <td>zelleromyces_cinnabarinus.html</td>\n",
              "      <td>Z. cinnabarinus</td>\n",
              "      <td>NaN</td>\n",
              "      <td>NaN</td>\n",
              "      <td>NaN</td>\n",
              "      <td>NaN</td>\n",
              "    </tr>\n",
              "  </tbody>\n",
              "</table>\n",
              "<p>1447 rows × 8 columns</p>\n",
              "</div>\n",
              "      <button class=\"colab-df-convert\" onclick=\"convertToInteractive('df-a23d814a-997c-42fe-bfcc-424c0d2ef7ef')\"\n",
              "              title=\"Convert this dataframe to an interactive table.\"\n",
              "              style=\"display:none;\">\n",
              "        \n",
              "  <svg xmlns=\"http://www.w3.org/2000/svg\" height=\"24px\"viewBox=\"0 0 24 24\"\n",
              "       width=\"24px\">\n",
              "    <path d=\"M0 0h24v24H0V0z\" fill=\"none\"/>\n",
              "    <path d=\"M18.56 5.44l.94 2.06.94-2.06 2.06-.94-2.06-.94-.94-2.06-.94 2.06-2.06.94zm-11 1L8.5 8.5l.94-2.06 2.06-.94-2.06-.94L8.5 2.5l-.94 2.06-2.06.94zm10 10l.94 2.06.94-2.06 2.06-.94-2.06-.94-.94-2.06-.94 2.06-2.06.94z\"/><path d=\"M17.41 7.96l-1.37-1.37c-.4-.4-.92-.59-1.43-.59-.52 0-1.04.2-1.43.59L10.3 9.45l-7.72 7.72c-.78.78-.78 2.05 0 2.83L4 21.41c.39.39.9.59 1.41.59.51 0 1.02-.2 1.41-.59l7.78-7.78 2.81-2.81c.8-.78.8-2.07 0-2.86zM5.41 20L4 18.59l7.72-7.72 1.47 1.35L5.41 20z\"/>\n",
              "  </svg>\n",
              "      </button>\n",
              "      \n",
              "  <style>\n",
              "    .colab-df-container {\n",
              "      display:flex;\n",
              "      flex-wrap:wrap;\n",
              "      gap: 12px;\n",
              "    }\n",
              "\n",
              "    .colab-df-convert {\n",
              "      background-color: #E8F0FE;\n",
              "      border: none;\n",
              "      border-radius: 50%;\n",
              "      cursor: pointer;\n",
              "      display: none;\n",
              "      fill: #1967D2;\n",
              "      height: 32px;\n",
              "      padding: 0 0 0 0;\n",
              "      width: 32px;\n",
              "    }\n",
              "\n",
              "    .colab-df-convert:hover {\n",
              "      background-color: #E2EBFA;\n",
              "      box-shadow: 0px 1px 2px rgba(60, 64, 67, 0.3), 0px 1px 3px 1px rgba(60, 64, 67, 0.15);\n",
              "      fill: #174EA6;\n",
              "    }\n",
              "\n",
              "    [theme=dark] .colab-df-convert {\n",
              "      background-color: #3B4455;\n",
              "      fill: #D2E3FC;\n",
              "    }\n",
              "\n",
              "    [theme=dark] .colab-df-convert:hover {\n",
              "      background-color: #434B5C;\n",
              "      box-shadow: 0px 1px 3px 1px rgba(0, 0, 0, 0.15);\n",
              "      filter: drop-shadow(0px 1px 2px rgba(0, 0, 0, 0.3));\n",
              "      fill: #FFFFFF;\n",
              "    }\n",
              "  </style>\n",
              "\n",
              "      <script>\n",
              "        const buttonEl =\n",
              "          document.querySelector('#df-a23d814a-997c-42fe-bfcc-424c0d2ef7ef button.colab-df-convert');\n",
              "        buttonEl.style.display =\n",
              "          google.colab.kernel.accessAllowed ? 'block' : 'none';\n",
              "\n",
              "        async function convertToInteractive(key) {\n",
              "          const element = document.querySelector('#df-a23d814a-997c-42fe-bfcc-424c0d2ef7ef');\n",
              "          const dataTable =\n",
              "            await google.colab.kernel.invokeFunction('convertToInteractive',\n",
              "                                                     [key], {});\n",
              "          if (!dataTable) return;\n",
              "\n",
              "          const docLinkHtml = 'Like what you see? Visit the ' +\n",
              "            '<a target=\"_blank\" href=https://colab.research.google.com/notebooks/data_table.ipynb>data table notebook</a>'\n",
              "            + ' to learn more about interactive tables.';\n",
              "          element.innerHTML = '';\n",
              "          dataTable['output_type'] = 'display_data';\n",
              "          await google.colab.output.renderOutput(dataTable, element);\n",
              "          const docLink = document.createElement('div');\n",
              "          docLink.innerHTML = docLinkHtml;\n",
              "          element.appendChild(docLink);\n",
              "        }\n",
              "      </script>\n",
              "    </div>\n",
              "  </div>\n",
              "  "
            ],
            "text/plain": [
              "                         link_key             key  ... paragraphs images\n",
              "0     polypores_stemmed_pale.html     Abortiporus  ...        NaN    NaN\n",
              "1                   agaricus.html        Agaricus  ...        NaN    NaN\n",
              "2                   agaricus.html        Agaricus  ...        NaN    NaN\n",
              "3                   agaricus.html        Agaricus  ...        NaN    NaN\n",
              "4                   agaricus.html        Agaricus  ...        NaN    NaN\n",
              "...                           ...             ...  ...        ...    ...\n",
              "1442                 xylaria.html         Xylaria  ...        NaN    NaN\n",
              "1443                 xylaria.html         Xylaria  ...        NaN    NaN\n",
              "1444                          NaN             NaN  ...        NaN    NaN\n",
              "1445                    yard.html  Yard Mushrooms  ...        NaN    NaN\n",
              "1446                          NaN             NaN  ...        NaN    NaN\n",
              "\n",
              "[1447 rows x 8 columns]"
            ]
          },
          "metadata": {},
          "execution_count": 352
        }
      ]
    },
    {
      "cell_type": "markdown",
      "source": [
        "# Get images and post text from each path"
      ],
      "metadata": {
        "id": "g7H3dE8Htsg0"
      }
    },
    {
      "cell_type": "code",
      "source": [
        "def get_images_and_text(root, path):\n",
        "  try:\n",
        "    r = requests.get(root + path)\n",
        "    soup = BeautifulSoup(r.text,'html.parser')\n",
        "    result = soup.find_all(\"p\")\n",
        "    paragraphs = ''\n",
        "    for i in result:\n",
        "      paragraphs += i.get_text() + '\\n'\n",
        "    result = soup.find_all('img')\n",
        "    images = ''\n",
        "    for i in result:\n",
        "      images += i.get('src') + ','\n",
        "    print(path + ' scraped_successfully')\n",
        "    return paragraphs, images\n",
        "  except:\n",
        "    print('scrape failed')\n",
        "    return '',''"
      ],
      "metadata": {
        "id": "Zl92mZODxeyZ"
      },
      "execution_count": null,
      "outputs": []
    },
    {
      "cell_type": "code",
      "source": [
        "for index,row in entire_catalog.iterrows():\n",
        "  paras,imgs = get_images_and_text(root, row['link_item'])\n",
        "  entire_catalog.loc[index,'paragraphs'] = paras\n",
        "  entire_catalog.loc[index,'images'] = imgs\n",
        "  sleep(randint(2,3))"
      ],
      "metadata": {
        "id": "w3IhlvJ4uMrr"
      },
      "execution_count": null,
      "outputs": []
    },
    {
      "cell_type": "code",
      "source": [
        "entire_catalog.to_csv('catalog.csv',)"
      ],
      "metadata": {
        "id": "sDs_VW77I4AF"
      },
      "execution_count": null,
      "outputs": []
    },
    {
      "cell_type": "code",
      "source": [
        "entire_catalog.to_pickle('catalog.pkl')"
      ],
      "metadata": {
        "id": "acPGBmgPKKhC"
      },
      "execution_count": null,
      "outputs": []
    },
    {
      "cell_type": "code",
      "source": [
        "pd.read_pickle('/content/catalog.pkl').loc[50,'paragraphs']"
      ],
      "metadata": {
        "colab": {
          "base_uri": "https://localhost:8080/",
          "height": 178
        },
        "id": "nUtHWrfiKkMI",
        "outputId": "a005cb59-34a1-4647-f98a-76a78f79b2e8"
      },
      "execution_count": null,
      "outputs": [
        {
          "output_type": "execute_result",
          "data": {
            "application/vnd.google.colaboratory.intrinsic+json": {
              "type": "string"
            },
            "text/plain": [
              "'\\nAlloclavaria purpurea\\n[ Basidiomycetes\\xa0>\\xa0Agaricales\\xa0>\\xa0Clavariaceae\\xa0>\\xa0Alloclavaria . . . ]\\nby Michael Kuo\\n\"Alloclavaria\" means \"the other Clavaria,\" and this club fungus differs from closely related species in Clavaria, Clavulina, and Clavulinopsis in its prominent cystidia--a feature not found in the other genera. It is also clearly separated from the others molecularly, leading Dentinger & McLaughlin (2006) to create the genus Alloclavaria to accommodate this funky mushroom.\\nHowever, the dull purple colors and densely packed, non-branching fruiting bodies of Alloclavaria purpurea are distinctive enough that you will probably not need to use a microscope or a DNA sequencer to identify the mushroom successfully. Clavaria zollingeri and Clavulina amethystinoides are vaguely similar but are at least moderately branched; additionally they appear in hardwood forests, while Alloclavaria purpurea is fond of conifers.\\nClavaria purpurea is a former name.\\nDescription:\\nEcology: Traditionally presumed to be saprobic--but Dentinger & McLaughlin (2006) suggest the possibility that it is mycorrhizal or associated with mosses (and given its range, I wonder whether it might be associated with spruces); growing in tightly packed clusters under conifers, often in moss; summer and fall (also winter in warmer climates); widely distributed in northern, montane, and western North America.\\nFruiting Body: 2.5-10 cm high; 2-6 mm wide; cylindrical to nearly spindle-shaped; unbranched; sometimes somewhat flattened, or with a groove or a twist; dry; soft; dull purple to purplish brown; paler at the extreme base; usually with a bluntly pointed tip.\\nFlesh: Whitish to purplish; thin.\\nOdor and Taste: Not distinctive.\\nChemical Reactions: Iron salts negative on surfaces.\\nSpore Print: White.\\nMicroscopic Features: Spores 8.5-12 x 4-4.5 µ; ellipsoid; smooth. Basidia 4-sterigmate. Cystidia up to 130 x 10 µ; cylindric; thin-walled. Clamp connections absent.\\nREFERENCES: (Fries, 1821) Dentinger & McLaughlin, 2006. (Saccardo, 1888; Coker, 1923; Corner, 1950; Smith, Smith & Weber, 1981; Arora, 1986; States, 1990; Phillips, 1991/2005; Lincoff, 1992; Evenson, 1997; Barron, 1999; McNeil, 2006; Miller & Miller, 2006; Trudell & Ammirati, 2009; Kuo & Methven, 2010.) Herb. Kuo 08110704.\\nThis site contains no information about the edibility or toxicity of mushrooms.\\n\\nSpores\\nCystidia\\n© MushroomExpert.Com\\nCite this page as:\\nKuo, M. (2012, February). Alloclavaria purpurea. Retrieved from the MushroomExpert.Com Web site: http://www.mushroomexpert.com/alloclavaria_purpurea.html\\n'"
            ]
          },
          "metadata": {},
          "execution_count": 369
        }
      ]
    },
    {
      "cell_type": "code",
      "source": [
        "catalog = pd.read_pickle('/content/catalog.pkl')"
      ],
      "metadata": {
        "id": "pZtwc9HBe7tJ"
      },
      "execution_count": null,
      "outputs": []
    },
    {
      "cell_type": "code",
      "source": [
        "print(catalog)"
      ],
      "metadata": {
        "colab": {
          "base_uri": "https://localhost:8080/"
        },
        "id": "Ek2E8xlhfMdU",
        "outputId": "2fddbc71-b3de-466c-e1fc-e252b6d34ee7"
      },
      "execution_count": null,
      "outputs": [
        {
          "output_type": "stream",
          "name": "stdout",
          "text": [
            "                         link_key  ...                                             images\n",
            "0     polypores_stemmed_pale.html  ...  images/inside_top.gif,images/kuo2/abortiporus_...\n",
            "1                   agaricus.html  ...  images/inside_top.gif,images/kuo6/agaricus_abr...\n",
            "2                   agaricus.html  ...  images/inside_top.gif,images/kuo6/agaricus_ami...\n",
            "3                   agaricus.html  ...  images/inside_top.gif,images/kuo6/agaricus_and...\n",
            "4                   agaricus.html  ...  images/inside_top.gif,images/kuo6/agaricus_arg...\n",
            "...                           ...  ...                                                ...\n",
            "1442                 xylaria.html  ...  images/inside_top.gif,images/kuo3/xylaria_magn...\n",
            "1443                 xylaria.html  ...  images/inside_top.gif,images/kuo2/xylaria_poly...\n",
            "1444                          NaN  ...  images/inside_top.gif,images/kuo2/xylobolus_fr...\n",
            "1445                    yard.html  ...                                                   \n",
            "1446                          NaN  ...  images/inside_top.gif,images/kerner/kerner_zel...\n",
            "\n",
            "[1447 rows x 8 columns]\n"
          ]
        }
      ]
    },
    {
      "cell_type": "code",
      "source": [
        "pd.__version__"
      ],
      "metadata": {
        "colab": {
          "base_uri": "https://localhost:8080/",
          "height": 35
        },
        "id": "b1oN4gG1kFoR",
        "outputId": "e2b2c629-cd2e-4b63-e8ab-621b8b62b187"
      },
      "execution_count": 19,
      "outputs": [
        {
          "output_type": "execute_result",
          "data": {
            "application/vnd.google.colaboratory.intrinsic+json": {
              "type": "string"
            },
            "text/plain": [
              "'1.3.5'"
            ]
          },
          "metadata": {},
          "execution_count": 19
        }
      ]
    }
  ]
}